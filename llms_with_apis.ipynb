{
  "nbformat": 4,
  "nbformat_minor": 0,
  "metadata": {
    "colab": {
      "private_outputs": true,
      "provenance": [],
      "gpuType": "T4",
      "toc_visible": true,
      "include_colab_link": true
    },
    "kernelspec": {
      "name": "python3",
      "display_name": "Python 3"
    },
    "language_info": {
      "name": "python"
    },
    "accelerator": "GPU"
  },
  "cells": [
    {
      "cell_type": "markdown",
      "metadata": {
        "id": "view-in-github",
        "colab_type": "text"
      },
      "source": [
        "<a href=\"https://colab.research.google.com/github/Kenethoriga/DataOpsKit/blob/main/llms_with_apis.ipynb\" target=\"_parent\"><img src=\"https://colab.research.google.com/assets/colab-badge.svg\" alt=\"Open In Colab\"/></a>"
      ]
    },
    {
      "cell_type": "code",
      "execution_count": null,
      "metadata": {
        "id": "rfbxO_mE6TEw"
      },
      "outputs": [],
      "source": [
        "!pip install replicate"
      ]
    },
    {
      "cell_type": "code",
      "source": [],
      "metadata": {
        "id": "Jxndjxl_bU7o"
      },
      "execution_count": null,
      "outputs": []
    },
    {
      "cell_type": "code",
      "source": [
        "# get a token: https://replicate.com/account\n",
        "from getpass import getpass\n",
        "import os\n",
        "\n",
        "REPLICATE_API_TOKEN = getpass()\n",
        "os.environ[\"REPLICATE_API_TOKEN\"] = REPLICATE_API_TOKEN\n",
        "# in the prompt below, place your API_KEY - check under your account's settings"
      ],
      "metadata": {
        "id": "Ak-Dcf7o6Z1-"
      },
      "execution_count": null,
      "outputs": []
    },
    {
      "cell_type": "code",
      "source": [
        "import replicate\n",
        "\n",
        "output = replicate.run(\n",
        "    \"adirik/interior-design:76604baddc85b1b4616e1c6475eca080da339c8875bd4996705440484a6eac38\",\n",
        "    input={\n",
        "        \"image\": \"image-url\",\n",
        "        \"prompt\": \"A bedroom in poor condition with a window on the left, a wardrobe on the corner adjacent to the window and a bed on the floor. items are scattered in the room, organize the room for better appearance\",\n",
        "        \"guidance_scale\": 15,\n",
        "        \"negative_prompt\": \"lowres, watermark, banner, logo, watermark, contactinfo, text, deformed, blurry, blur, out of focus, out of frame, surreal, extra, ugly, upholstered walls, fabric walls, plush walls, mirror, mirrored, functional, realistic\",\n",
        "        \"prompt_strength\": 0.8,\n",
        "        \"num_inference_steps\": 50\n",
        "    }\n",
        ")\n",
        "print(output)"
      ],
      "metadata": {
        "id": "RjGtZfop7pHX"
      },
      "execution_count": null,
      "outputs": []
    },
    {
      "cell_type": "code",
      "source": [
        "import replicate\n",
        "\n",
        "output = replicate.run(\n",
        "    \"thijssdaniels/room-gpt:bfcb42751f8f702e4661daa3e592c960cdec178831df79d361c54a78e8ec87e1\",\n",
        "    input={\n",
        "        # the parameters below can be adjusted, check the documentations\n",
        "        \"seed\": 21,\n",
        "        \"width\": 1024,\n",
        "        \"height\": 1024,\n",
        "        \"prompt\": \"an office room with one computer, table, monitor, chair and GPU. A fluffy mat at the base\",\n",
        "        \"refine\": \"no_refiner\",\n",
        "        \"scheduler\": \"K_EULER\",\n",
        "        \"lora_scale\": 0.6,\n",
        "        \"num_outputs\": 2,\n",
        "        \"refine_steps\": 10,\n",
        "        \"guidance_scale\": 7.5,\n",
        "        \"apply_watermark\": True,\n",
        "        \"high_noise_frac\": 0.8,\n",
        "        \"negative_prompt\": \"\",\n",
        "        \"prompt_strength\": 0.8,\n",
        "        \"num_inference_steps\": 50\n",
        "    }\n",
        ")\n",
        "print(output)"
      ],
      "metadata": {
        "id": "S9OzVImZ_IKY"
      },
      "execution_count": null,
      "outputs": []
    },
    {
      "cell_type": "code",
      "source": [
        "import replicate\n",
        "\n",
        "input = {\n",
        "    \"prompt\": \"Johnny has 8 billion parameters. His friend Tommy has 70 billion parameters. What does this mean when it comes to speed?\",\n",
        "    \"max_new_tokens\": 512,\n",
        "    \"prompt_template\": \"<|begin_of_text|><|start_header_id|>system<|end_header_id|>\\n\\n{system_prompt}<|eot_id|><|start_header_id|>user<|end_header_id|>\\n\\n{prompt}<|eot_id|><|start_header_id|>assistant<|end_header_id|>\\n\\n\"\n",
        "}\n",
        "\n",
        "for event in replicate.stream(\n",
        "    \"meta/meta-llama-3-8b-instruct\",\n",
        "    input=input\n",
        "):\n",
        "    print(event, end=\"\")\n",
        "#=> \"The number of parameters in a neural network can impact ..."
      ],
      "metadata": {
        "id": "dgWbXCCA4tsQ"
      },
      "execution_count": null,
      "outputs": []
    },
    {
      "cell_type": "code",
      "source": [
        "import replicate\n",
        "\n",
        "output = replicate.run(\n",
        "    \"thijssdaniels/room-gpt:bfcb42751f8f702e4661daa3e592c960cdec178831df79d361c54a78e8ec87e1\",\n",
        "    input={\n",
        "        \"seed\": 21,\n",
        "        \"width\": 1024,\n",
        "        \"height\": 1024,\n",
        "        \"prompt\": \"an office room with one computer, table, monitor, chair and GPU. A fluffy mat at the base\",\n",
        "        \"prompt\": \"\",\n",
        "        \"refine\": \"no_refiner\",\n",
        "        \"scheduler\": \"K_EULER\",\n",
        "        \"lora_scale\": 0.6,\n",
        "        \"num_outputs\": 2,\n",
        "        \"refine_steps\": 10,\n",
        "        \"guidance_scale\": 7.5,\n",
        "        \"apply_watermark\": True,\n",
        "        \"high_noise_frac\": 0.8,\n",
        "        \"negative_prompt\": \"\",\n",
        "        \"prompt_strength\": 0.8,\n",
        "        \"num_inference_steps\": 50\n",
        "    }\n",
        ")\n",
        "print(output)"
      ],
      "metadata": {
        "id": "tZ0jElsq6BHq"
      },
      "execution_count": null,
      "outputs": []
    }
  ]
}